{
 "cells": [
  {
   "cell_type": "markdown",
   "id": "c147d11e",
   "metadata": {},
   "source": [
    "## Model 1"
   ]
  },
  {
   "cell_type": "markdown",
   "id": "f20e75a0",
   "metadata": {},
   "source": [
    "Columns (Model 1, Base model)\\\n",
    "*X_columns*\n",
    "- resident_status\n",
    "- education_2003_revision\n",
    "- sex\n",
    "- age_recode_27\n",
    "- maritial_status\n",
    "- race\n",
    "- hispanic_origin\n",
    "\n",
    "*y_column (Label)*\n",
    "- month_of_death"
   ]
  },
  {
   "cell_type": "code",
   "execution_count": 1,
   "id": "942d1afe",
   "metadata": {},
   "outputs": [],
   "source": [
    "%config Completer.use_jedi = False"
   ]
  },
  {
   "cell_type": "code",
   "execution_count": 2,
   "id": "92e34573",
   "metadata": {},
   "outputs": [],
   "source": [
    "import numpy as np\n",
    "import pandas as pd\n",
    "import matplotlib.pyplot as plt\n",
    "from tqdm import tqdm\n",
    "import sys\n",
    "import os"
   ]
  },
  {
   "cell_type": "code",
   "execution_count": 3,
   "id": "0fa1832f",
   "metadata": {},
   "outputs": [
    {
     "name": "stderr",
     "output_type": "stream",
     "text": [
      "/home/jloesch30/miniconda3/envs/python3.9/lib/python3.9/site-packages/IPython/core/interactiveshell.py:3444: DtypeWarning: Columns (39,40,41,42,43,44,45,46,47,59,60,61,62,63,64,65,66) have mixed types.Specify dtype option on import or set low_memory=False.\n",
      "  exec(code_obj, self.user_global_ns, self.user_ns)\n"
     ]
    }
   ],
   "source": [
    "data_2005 = pd.read_csv('../data/2005_data.csv')\n",
    "\n",
    "# remove columns with entity and record condition except entity_condition_1, entity_condition_2 and entity_condition_3\n",
    "data_2005_revised = data_2005.drop(columns=['entity_condition_2', 'entity_condition_3', 'entity_condition_4',\n",
    "       'entity_condition_5', 'entity_condition_6', 'entity_condition_7',\n",
    "       'entity_condition_8', 'entity_condition_9', 'entity_condition_10',\n",
    "       'entity_condition_11', 'entity_condition_12', 'entity_condition_13',\n",
    "       'entity_condition_14', 'entity_condition_15', 'entity_condition_16',\n",
    "       'entity_condition_17', 'entity_condition_18', 'entity_condition_19',\n",
    "       'entity_condition_20', 'record_condition_2', 'record_condition_3',\n",
    "       'record_condition_4', 'record_condition_5', 'record_condition_6',\n",
    "       'record_condition_7', 'record_condition_8', 'record_condition_9',\n",
    "       'record_condition_10', 'record_condition_11', 'record_condition_12',\n",
    "       'record_condition_13', 'record_condition_14', 'record_condition_15',\n",
    "       'record_condition_16', 'record_condition_17', 'record_condition_18',\n",
    "       'record_condition_19', 'record_condition_20'])\n",
    "\n",
    "# removing education 1989 education revised bc 2003 education revision has the most up to date information\n",
    "try:\n",
    "    data_2005_revised = data_2005_revised.drop(columns=['education_1989_revision'])\n",
    "except:\n",
    "    pass\n",
    "\n",
    "# removing column for age_sub flag\n",
    "try:\n",
    "    data_2005_revised = data_2005_revised.drop(columns=['age_substitution_flag'])\n",
    "except:\n",
    "    pass\n",
    "\n",
    "# remove infant age_recode\n",
    "try:\n",
    "    data_2005_revised = data_2005_revised.drop(columns=['infant_age_recode_22'])\n",
    "except:\n",
    "    pass\n",
    "\n",
    "# remove place_of_injury_for_causes_w00_y34_except_y06_and_y07_\n",
    "try:\n",
    "    data_2005_revised = data_2005_revised.drop(columns=['place_of_injury_for_causes_w00_y34_except_y06_and_y07_'])\n",
    "except:\n",
    "    pass\n",
    "\n",
    "# remove 130_infant_cause_recode\n",
    "try:\n",
    "    data_2005_revised = data_2005_revised.drop(columns=['130_infant_cause_recode'])\n",
    "except:\n",
    "    pass\n",
    "\n",
    "# remove bridged race flag\n",
    "try:\n",
    "    data_2005_revised = data_2005_revised.drop(columns=['bridged_race_flag'])\n",
    "except:\n",
    "    pass\n",
    "\n",
    "# Race imputation flag\n",
    "try:\n",
    "    data_2005_revised = data_2005_revised.drop(columns=['race_imputation_flag'])\n",
    "except:\n",
    "    pass\n",
    "\n",
    "# replace NaN values with '9' for education column\n",
    "\n",
    "data_2005_revised['education_2003_revision'] = data_2005_revised['education_2003_revision'].fillna(9)\n",
    "\n",
    "# replace manner of death NaN values with 0 for \"not specified\"\n",
    "\n",
    "data_2005_revised['manner_of_death'] = data_2005_revised['manner_of_death'].fillna(0)\n",
    "\n",
    "# replace activity code with 10 for NaN values\n",
    "\n",
    "data_2005_revised['activity_code'] = data_2005_revised['activity_code'].fillna(10)\n",
    "\n",
    "# getting desired columns\n",
    "data_2005_revised = data_2005_revised[['resident_status', 'education_2003_revision', 'sex', 'age_recode_27', 'marital_status', 'race', 'hispanic_origin', 'month_of_death']]"
   ]
  },
  {
   "cell_type": "code",
   "execution_count": 4,
   "id": "85f4bba1",
   "metadata": {},
   "outputs": [],
   "source": [
    "# Changing the label to categorical to work with logistic regression\n",
    "\n",
    "data_2005_revised = data_2005_revised.astype({'month_of_death': 'category', 'education_2003_revision': 'int64'})"
   ]
  },
  {
   "cell_type": "code",
   "execution_count": 5,
   "id": "8247cd40",
   "metadata": {},
   "outputs": [
    {
     "data": {
      "text/plain": [
       "resident_status               int64\n",
       "education_2003_revision       int64\n",
       "sex                          object\n",
       "age_recode_27                 int64\n",
       "marital_status               object\n",
       "race                          int64\n",
       "hispanic_origin               int64\n",
       "month_of_death             category\n",
       "dtype: object"
      ]
     },
     "execution_count": 5,
     "metadata": {},
     "output_type": "execute_result"
    }
   ],
   "source": [
    "data_2005_revised.dtypes"
   ]
  },
  {
   "cell_type": "code",
   "execution_count": 6,
   "id": "509bb431",
   "metadata": {},
   "outputs": [],
   "source": [
    "# one hot encode marital stautus\n",
    "marital_dummies = pd.get_dummies(data_2005_revised.marital_status, prefix='marital_')"
   ]
  },
  {
   "cell_type": "code",
   "execution_count": 7,
   "id": "d3c4e3cd",
   "metadata": {},
   "outputs": [],
   "source": [
    "data_2005_revised = pd.concat([data_2005_revised, marital_dummies])\n",
    "data_2005_revised = data_2005_revised.drop(columns=['marital_status'])"
   ]
  },
  {
   "cell_type": "code",
   "execution_count": 8,
   "id": "2501c67a",
   "metadata": {},
   "outputs": [
    {
     "data": {
      "text/plain": [
       "resident_status             float64\n",
       "education_2003_revision     float64\n",
       "sex                          object\n",
       "age_recode_27               float64\n",
       "race                        float64\n",
       "hispanic_origin             float64\n",
       "month_of_death             category\n",
       "marital__D                  float64\n",
       "marital__M                  float64\n",
       "marital__S                  float64\n",
       "marital__U                  float64\n",
       "marital__W                  float64\n",
       "dtype: object"
      ]
     },
     "execution_count": 8,
     "metadata": {},
     "output_type": "execute_result"
    }
   ],
   "source": [
    "data_2005_revised.dtypes"
   ]
  },
  {
   "cell_type": "code",
   "execution_count": 10,
   "id": "eadf184b",
   "metadata": {},
   "outputs": [
    {
     "data": {
      "text/plain": [
       "F    1241896\n",
       "M    1210610\n",
       "Name: sex, dtype: int64"
      ]
     },
     "execution_count": 10,
     "metadata": {},
     "output_type": "execute_result"
    }
   ],
   "source": [
    "# binary encode sex column\n",
    "data_2005_revised.sex.value_counts()"
   ]
  },
  {
   "cell_type": "code",
   "execution_count": 11,
   "id": "002309fe",
   "metadata": {},
   "outputs": [],
   "source": [
    "data_2005_revised['sex'] = data_2005_revised['sex'].map(lambda x : 1 if x == 'M' else 0)"
   ]
  },
  {
   "cell_type": "code",
   "execution_count": 12,
   "id": "09e6cda1",
   "metadata": {},
   "outputs": [
    {
     "data": {
      "text/plain": [
       "resident_status             float64\n",
       "education_2003_revision     float64\n",
       "sex                           int64\n",
       "age_recode_27               float64\n",
       "race                        float64\n",
       "hispanic_origin             float64\n",
       "month_of_death             category\n",
       "marital__D                  float64\n",
       "marital__M                  float64\n",
       "marital__S                  float64\n",
       "marital__U                  float64\n",
       "marital__W                  float64\n",
       "dtype: object"
      ]
     },
     "execution_count": 12,
     "metadata": {},
     "output_type": "execute_result"
    }
   ],
   "source": [
    "data_2005_revised.dtypes"
   ]
  },
  {
   "cell_type": "markdown",
   "id": "a0e7d251",
   "metadata": {},
   "source": [
    "### Train logistic regression model"
   ]
  },
  {
   "cell_type": "code",
   "execution_count": 13,
   "id": "8897f004",
   "metadata": {},
   "outputs": [],
   "source": [
    "#TODO"
   ]
  }
 ],
 "metadata": {
  "kernelspec": {
   "display_name": "python3.9",
   "language": "python",
   "name": "python3.9"
  },
  "language_info": {
   "codemirror_mode": {
    "name": "ipython",
    "version": 3
   },
   "file_extension": ".py",
   "mimetype": "text/x-python",
   "name": "python",
   "nbconvert_exporter": "python",
   "pygments_lexer": "ipython3",
   "version": "3.9.7"
  }
 },
 "nbformat": 4,
 "nbformat_minor": 5
}
