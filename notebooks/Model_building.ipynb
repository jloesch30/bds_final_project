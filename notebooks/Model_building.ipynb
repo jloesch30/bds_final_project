{
 "cells": [
  {
   "cell_type": "markdown",
   "metadata": {},
   "source": [
    "## Building a model for BDS Final project"
   ]
  },
  {
   "cell_type": "code",
   "execution_count": 6,
   "metadata": {
    "ExecuteTime": {
     "end_time": "2021-12-07T02:51:50.609653Z",
     "start_time": "2021-12-07T02:51:50.593378Z"
    }
   },
   "outputs": [],
   "source": [
    "%config Completer.use_jedi = False"
   ]
  },
  {
   "cell_type": "code",
   "execution_count": 22,
   "metadata": {
    "ExecuteTime": {
     "end_time": "2021-12-07T03:09:46.100426Z",
     "start_time": "2021-12-07T03:09:46.096583Z"
    }
   },
   "outputs": [],
   "source": [
    "import numpy as np\n",
    "import pandas as pd\n",
    "import matplotlib.pyplot as plt\n",
    "from tqdm import tqdm\n",
    "import sys\n",
    "import os"
   ]
  },
  {
   "cell_type": "code",
   "execution_count": 3,
   "metadata": {
    "ExecuteTime": {
     "end_time": "2021-12-07T02:41:56.205280Z",
     "start_time": "2021-12-07T02:41:41.501834Z"
    }
   },
   "outputs": [
    {
     "name": "stdout",
     "output_type": "stream",
     "text": [
      "/Users/joshloesch/school/fall2021/bds/bds_final_project/notebooks\n"
     ]
    },
    {
     "name": "stderr",
     "output_type": "stream",
     "text": [
      "/Users/joshloesch/opt/anaconda3/envs/BDS_New/lib/python3.8/site-packages/IPython/core/interactiveshell.py:3417: DtypeWarning: Columns (39,40,41,42,43,44,45,46,47,59,60,61,62,63,64,65,66) have mixed types.Specify dtype option on import or set low_memory=False.\n",
      "  exec(code_obj, self.user_global_ns, self.user_ns)\n"
     ]
    }
   ],
   "source": [
    "# import data\n",
    "print(os.getcwd())\n",
    "\n",
    "data_2005 = pd.read_csv('../data/2005_data.csv')"
   ]
  },
  {
   "cell_type": "code",
   "execution_count": 4,
   "metadata": {
    "ExecuteTime": {
     "end_time": "2021-12-07T02:41:58.905682Z",
     "start_time": "2021-12-07T02:41:58.582983Z"
    }
   },
   "outputs": [
    {
     "data": {
      "text/plain": [
       "Text(0.5, 1.0, 'Education 2003 revised')"
      ]
     },
     "execution_count": 4,
     "metadata": {},
     "output_type": "execute_result"
    },
    {
     "data": {
      "image/png": "[encoded data removed]",
      "text/plain": [
       "<Figure size 432x288 with 1 Axes>"
      ]
     },
     "metadata": {
      "needs_background": "light"
     },
     "output_type": "display_data"
    }
   ],
   "source": [
    "plt.hist(data_2005['education_2003_revision'], align='mid', edgecolor='black')\n",
    "plt.title(\"Education 2003 revised\")"
   ]
  },
  {
   "cell_type": "code",
   "execution_count": 5,
   "metadata": {
    "ExecuteTime": {
     "end_time": "2021-12-07T02:42:01.302006Z",
     "start_time": "2021-12-07T02:42:01.116183Z"
    }
   },
   "outputs": [
    {
     "data": {
      "text/plain": [
       "Text(0.5, 1.0, 'Month of death')"
      ]
     },
     "execution_count": 5,
     "metadata": {},
     "output_type": "execute_result"
    },
    {
     "data": {
      "image/png": "[encoded data removed]",
      "text/plain": [
       "<Figure size 432x288 with 1 Axes>"
      ]
     },
     "metadata": {
      "needs_background": "light"
     },
     "output_type": "display_data"
    }
   ],
   "source": [
    "plt.hist(data_2005['month_of_death'], align='mid', edgecolor='black')\n",
    "plt.title(\"Month of death\")"
   ]
  },
  {
   "cell_type": "code",
   "execution_count": 23,
   "metadata": {
    "ExecuteTime": {
     "end_time": "2021-12-07T03:12:19.304766Z",
     "start_time": "2021-12-07T03:09:50.687610Z"
    }
   },
   "outputs": [
    {
     "name": "stderr",
     "output_type": "stream",
     "text": [
      "  0%|          | 0/11 [00:00<?, ?it/s]/Users/joshloesch/opt/anaconda3/envs/BDS_New/lib/python3.8/site-packages/IPython/core/interactiveshell.py:3417: DtypeWarning: Columns (40,41,42,43,44,45,46,47,60,61,62,63,64,65,66,67) have mixed types.Specify dtype option on import or set low_memory=False.\n",
      "  exec(code_obj, self.user_global_ns, self.user_ns)\n",
      "  9%|▉         | 1/11 [00:17<02:53, 17.32s/it]/Users/joshloesch/opt/anaconda3/envs/BDS_New/lib/python3.8/site-packages/IPython/core/interactiveshell.py:3417: DtypeWarning: Columns (40,41,42,43,44,45,46,47,60,61,62,63,64,65,66,67,68) have mixed types.Specify dtype option on import or set low_memory=False.\n",
      "  exec(code_obj, self.user_global_ns, self.user_ns)\n",
      " 18%|█▊        | 2/11 [00:30<02:15, 15.03s/it]/Users/joshloesch/opt/anaconda3/envs/BDS_New/lib/python3.8/site-packages/IPython/core/interactiveshell.py:3417: DtypeWarning: Columns (39,40,41,42,43,44,45,46,59,60,61,62,63,64,65,66,67) have mixed types.Specify dtype option on import or set low_memory=False.\n",
      "  exec(code_obj, self.user_global_ns, self.user_ns)\n",
      " 27%|██▋       | 3/11 [00:43<01:51, 13.96s/it]/Users/joshloesch/opt/anaconda3/envs/BDS_New/lib/python3.8/site-packages/IPython/core/interactiveshell.py:3417: DtypeWarning: Columns (39,40,41,42,43,44,45,46,47,59,60,61,62,63,64,65,66,67) have mixed types.Specify dtype option on import or set low_memory=False.\n",
      "  exec(code_obj, self.user_global_ns, self.user_ns)\n",
      " 36%|███▋      | 4/11 [00:55<01:33, 13.37s/it]/Users/joshloesch/opt/anaconda3/envs/BDS_New/lib/python3.8/site-packages/IPython/core/interactiveshell.py:3417: DtypeWarning: Columns (39,40,41,42,43,60,61,62,63) have mixed types.Specify dtype option on import or set low_memory=False.\n",
      "  exec(code_obj, self.user_global_ns, self.user_ns)\n",
      " 45%|████▌     | 5/11 [01:09<01:21, 13.55s/it]/Users/joshloesch/opt/anaconda3/envs/BDS_New/lib/python3.8/site-packages/IPython/core/interactiveshell.py:3417: DtypeWarning: Columns (40,41,42,43,61,62,63,64) have mixed types.Specify dtype option on import or set low_memory=False.\n",
      "  exec(code_obj, self.user_global_ns, self.user_ns)\n",
      " 55%|█████▍    | 6/11 [01:22<01:06, 13.32s/it]/Users/joshloesch/opt/anaconda3/envs/BDS_New/lib/python3.8/site-packages/IPython/core/interactiveshell.py:3417: DtypeWarning: Columns (32,33,34,35,36,37,38,39,40,41,42,43,44,45,46,47,48,52,53,54,55,56,57,58,59,60,61,62,63,64,65,66,67) have mixed types.Specify dtype option on import or set low_memory=False.\n",
      "  exec(code_obj, self.user_global_ns, self.user_ns)\n",
      " 64%|██████▎   | 7/11 [01:35<00:52, 13.06s/it]/Users/joshloesch/opt/anaconda3/envs/BDS_New/lib/python3.8/site-packages/IPython/core/interactiveshell.py:3417: DtypeWarning: Columns (39,40,41,42,43,44,45,46,59,60,61,62,63,64,65,66) have mixed types.Specify dtype option on import or set low_memory=False.\n",
      "  exec(code_obj, self.user_global_ns, self.user_ns)\n",
      " 73%|███████▎  | 8/11 [01:48<00:39, 13.10s/it]/Users/joshloesch/opt/anaconda3/envs/BDS_New/lib/python3.8/site-packages/IPython/core/interactiveshell.py:3417: DtypeWarning: Columns (39,40,41,42,43,44,45,46,47,59,60,61,62,63,64,65,66) have mixed types.Specify dtype option on import or set low_memory=False.\n",
      "  exec(code_obj, self.user_global_ns, self.user_ns)\n",
      " 82%|████████▏ | 9/11 [02:00<00:25, 12.94s/it]/Users/joshloesch/opt/anaconda3/envs/BDS_New/lib/python3.8/site-packages/IPython/core/interactiveshell.py:3417: DtypeWarning: Columns (39,40,41,42,43,60,61,62,63,64,65,66) have mixed types.Specify dtype option on import or set low_memory=False.\n",
      "  exec(code_obj, self.user_global_ns, self.user_ns)\n",
      "100%|██████████| 11/11 [02:28<00:00, 13.49s/it]\n"
     ]
    }
   ],
   "source": [
    "# Finding the common columns in each dataset\n",
    "\n",
    "def get_data_files() -> list:\n",
    "    file_names = []\n",
    "    for filename in os.listdir(\"/Users/joshloesch/school/fall2021/bds/bds_final_project/data/\"):\n",
    "        if filename.endswith(\".csv\"):\n",
    "            file_names.append(filename)\n",
    "    return file_names\n",
    "            \n",
    "file_names = get_data_files()\n",
    "\n",
    "column_names = []\n",
    "for filename in tqdm(file_names):\n",
    "    data = pd.read_csv('../data/' + filename)\n",
    "    s = set(data.columns)\n",
    "    column_names.append([filename, s])"
   ]
  },
  {
   "cell_type": "markdown",
   "metadata": {},
   "source": [
    "From the below cell we can see that all features in our dataset are the same except two:\n",
    "icd_code_10th_revision & icd_code_10\n",
    "\n",
    "I am planning on combining all of the data to increase our sample, I will remove these two features to have symmetry in the dataset"
   ]
  },
  {
   "cell_type": "code",
   "execution_count": 24,
   "metadata": {
    "ExecuteTime": {
     "end_time": "2021-12-07T03:13:49.763761Z",
     "start_time": "2021-12-07T03:13:49.748428Z"
    }
   },
   "outputs": [
    {
     "name": "stdout",
     "output_type": "stream",
     "text": [
      "Analyzing set 2010_data.csv and comparing it to set 2011_data.csv\n",
      "set()\n",
      "Analyzing set 2010_data.csv and comparing it to set 2007_data.csv\n",
      "set()\n",
      "Analyzing set 2010_data.csv and comparing it to set 2006_data.csv\n",
      "set()\n",
      "Analyzing set 2010_data.csv and comparing it to set 2014_data.csv\n",
      "set()\n",
      "Analyzing set 2010_data.csv and comparing it to set 2015_data.csv\n",
      "set()\n",
      "Analyzing set 2010_data.csv and comparing it to set 2009_data.csv\n",
      "set()\n",
      "Analyzing set 2010_data.csv and comparing it to set 2008_data.csv\n",
      "set()\n",
      "Analyzing set 2010_data.csv and comparing it to set 2005_data.csv\n",
      "set()\n",
      "Analyzing set 2010_data.csv and comparing it to set 2013_data.csv\n",
      "set()\n",
      "Analyzing set 2010_data.csv and comparing it to set 2012_data.csv\n",
      "{'icd_code_10th_revision', 'icd_code_10'}\n",
      "Analyzing set 2011_data.csv and comparing it to set 2010_data.csv\n",
      "set()\n",
      "Analyzing set 2011_data.csv and comparing it to set 2007_data.csv\n",
      "set()\n",
      "Analyzing set 2011_data.csv and comparing it to set 2006_data.csv\n",
      "set()\n",
      "Analyzing set 2011_data.csv and comparing it to set 2014_data.csv\n",
      "set()\n",
      "Analyzing set 2011_data.csv and comparing it to set 2015_data.csv\n",
      "set()\n",
      "Analyzing set 2011_data.csv and comparing it to set 2009_data.csv\n",
      "set()\n",
      "Analyzing set 2011_data.csv and comparing it to set 2008_data.csv\n",
      "set()\n",
      "Analyzing set 2011_data.csv and comparing it to set 2005_data.csv\n",
      "set()\n",
      "Analyzing set 2011_data.csv and comparing it to set 2013_data.csv\n",
      "set()\n",
      "Analyzing set 2011_data.csv and comparing it to set 2012_data.csv\n",
      "{'icd_code_10th_revision', 'icd_code_10'}\n",
      "Analyzing set 2007_data.csv and comparing it to set 2010_data.csv\n",
      "set()\n",
      "Analyzing set 2007_data.csv and comparing it to set 2011_data.csv\n",
      "set()\n",
      "Analyzing set 2007_data.csv and comparing it to set 2006_data.csv\n",
      "set()\n",
      "Analyzing set 2007_data.csv and comparing it to set 2014_data.csv\n",
      "set()\n",
      "Analyzing set 2007_data.csv and comparing it to set 2015_data.csv\n",
      "set()\n",
      "Analyzing set 2007_data.csv and comparing it to set 2009_data.csv\n",
      "set()\n",
      "Analyzing set 2007_data.csv and comparing it to set 2008_data.csv\n",
      "set()\n",
      "Analyzing set 2007_data.csv and comparing it to set 2005_data.csv\n",
      "set()\n",
      "Analyzing set 2007_data.csv and comparing it to set 2013_data.csv\n",
      "set()\n",
      "Analyzing set 2007_data.csv and comparing it to set 2012_data.csv\n",
      "{'icd_code_10th_revision', 'icd_code_10'}\n",
      "Analyzing set 2006_data.csv and comparing it to set 2010_data.csv\n",
      "set()\n",
      "Analyzing set 2006_data.csv and comparing it to set 2011_data.csv\n",
      "set()\n",
      "Analyzing set 2006_data.csv and comparing it to set 2007_data.csv\n",
      "set()\n",
      "Analyzing set 2006_data.csv and comparing it to set 2014_data.csv\n",
      "set()\n",
      "Analyzing set 2006_data.csv and comparing it to set 2015_data.csv\n",
      "set()\n",
      "Analyzing set 2006_data.csv and comparing it to set 2009_data.csv\n",
      "set()\n",
      "Analyzing set 2006_data.csv and comparing it to set 2008_data.csv\n",
      "set()\n",
      "Analyzing set 2006_data.csv and comparing it to set 2005_data.csv\n",
      "set()\n",
      "Analyzing set 2006_data.csv and comparing it to set 2013_data.csv\n",
      "set()\n",
      "Analyzing set 2006_data.csv and comparing it to set 2012_data.csv\n",
      "{'icd_code_10th_revision', 'icd_code_10'}\n",
      "Analyzing set 2014_data.csv and comparing it to set 2010_data.csv\n",
      "set()\n",
      "Analyzing set 2014_data.csv and comparing it to set 2011_data.csv\n",
      "set()\n",
      "Analyzing set 2014_data.csv and comparing it to set 2007_data.csv\n",
      "set()\n",
      "Analyzing set 2014_data.csv and comparing it to set 2006_data.csv\n",
      "set()\n",
      "Analyzing set 2014_data.csv and comparing it to set 2015_data.csv\n",
      "set()\n",
      "Analyzing set 2014_data.csv and comparing it to set 2009_data.csv\n",
      "set()\n",
      "Analyzing set 2014_data.csv and comparing it to set 2008_data.csv\n",
      "set()\n",
      "Analyzing set 2014_data.csv and comparing it to set 2005_data.csv\n",
      "set()\n",
      "Analyzing set 2014_data.csv and comparing it to set 2013_data.csv\n",
      "set()\n",
      "Analyzing set 2014_data.csv and comparing it to set 2012_data.csv\n",
      "{'icd_code_10th_revision', 'icd_code_10'}\n",
      "Analyzing set 2015_data.csv and comparing it to set 2010_data.csv\n",
      "set()\n",
      "Analyzing set 2015_data.csv and comparing it to set 2011_data.csv\n",
      "set()\n",
      "Analyzing set 2015_data.csv and comparing it to set 2007_data.csv\n",
      "set()\n",
      "Analyzing set 2015_data.csv and comparing it to set 2006_data.csv\n",
      "set()\n",
      "Analyzing set 2015_data.csv and comparing it to set 2014_data.csv\n",
      "set()\n",
      "Analyzing set 2015_data.csv and comparing it to set 2009_data.csv\n",
      "set()\n",
      "Analyzing set 2015_data.csv and comparing it to set 2008_data.csv\n",
      "set()\n",
      "Analyzing set 2015_data.csv and comparing it to set 2005_data.csv\n",
      "set()\n",
      "Analyzing set 2015_data.csv and comparing it to set 2013_data.csv\n",
      "set()\n",
      "Analyzing set 2015_data.csv and comparing it to set 2012_data.csv\n",
      "{'icd_code_10th_revision', 'icd_code_10'}\n",
      "Analyzing set 2009_data.csv and comparing it to set 2010_data.csv\n",
      "set()\n",
      "Analyzing set 2009_data.csv and comparing it to set 2011_data.csv\n",
      "set()\n",
      "Analyzing set 2009_data.csv and comparing it to set 2007_data.csv\n",
      "set()\n",
      "Analyzing set 2009_data.csv and comparing it to set 2006_data.csv\n",
      "set()\n",
      "Analyzing set 2009_data.csv and comparing it to set 2014_data.csv\n",
      "set()\n",
      "Analyzing set 2009_data.csv and comparing it to set 2015_data.csv\n",
      "set()\n",
      "Analyzing set 2009_data.csv and comparing it to set 2008_data.csv\n",
      "set()\n",
      "Analyzing set 2009_data.csv and comparing it to set 2005_data.csv\n",
      "set()\n",
      "Analyzing set 2009_data.csv and comparing it to set 2013_data.csv\n",
      "set()\n",
      "Analyzing set 2009_data.csv and comparing it to set 2012_data.csv\n",
      "{'icd_code_10th_revision', 'icd_code_10'}\n",
      "Analyzing set 2008_data.csv and comparing it to set 2010_data.csv\n",
      "set()\n",
      "Analyzing set 2008_data.csv and comparing it to set 2011_data.csv\n",
      "set()\n",
      "Analyzing set 2008_data.csv and comparing it to set 2007_data.csv\n",
      "set()\n",
      "Analyzing set 2008_data.csv and comparing it to set 2006_data.csv\n",
      "set()\n",
      "Analyzing set 2008_data.csv and comparing it to set 2014_data.csv\n",
      "set()\n",
      "Analyzing set 2008_data.csv and comparing it to set 2015_data.csv\n",
      "set()\n",
      "Analyzing set 2008_data.csv and comparing it to set 2009_data.csv\n",
      "set()\n",
      "Analyzing set 2008_data.csv and comparing it to set 2005_data.csv\n",
      "set()\n",
      "Analyzing set 2008_data.csv and comparing it to set 2013_data.csv\n",
      "set()\n",
      "Analyzing set 2008_data.csv and comparing it to set 2012_data.csv\n",
      "{'icd_code_10th_revision', 'icd_code_10'}\n",
      "Analyzing set 2005_data.csv and comparing it to set 2010_data.csv\n",
      "set()\n",
      "Analyzing set 2005_data.csv and comparing it to set 2011_data.csv\n",
      "set()\n",
      "Analyzing set 2005_data.csv and comparing it to set 2007_data.csv\n",
      "set()\n",
      "Analyzing set 2005_data.csv and comparing it to set 2006_data.csv\n",
      "set()\n",
      "Analyzing set 2005_data.csv and comparing it to set 2014_data.csv\n",
      "set()\n",
      "Analyzing set 2005_data.csv and comparing it to set 2015_data.csv\n",
      "set()\n",
      "Analyzing set 2005_data.csv and comparing it to set 2009_data.csv\n",
      "set()\n",
      "Analyzing set 2005_data.csv and comparing it to set 2008_data.csv\n",
      "set()\n",
      "Analyzing set 2005_data.csv and comparing it to set 2013_data.csv\n",
      "set()\n",
      "Analyzing set 2005_data.csv and comparing it to set 2012_data.csv\n",
      "{'icd_code_10th_revision', 'icd_code_10'}\n",
      "Analyzing set 2013_data.csv and comparing it to set 2010_data.csv\n",
      "set()\n",
      "Analyzing set 2013_data.csv and comparing it to set 2011_data.csv\n",
      "set()\n",
      "Analyzing set 2013_data.csv and comparing it to set 2007_data.csv\n",
      "set()\n",
      "Analyzing set 2013_data.csv and comparing it to set 2006_data.csv\n",
      "set()\n",
      "Analyzing set 2013_data.csv and comparing it to set 2014_data.csv\n",
      "set()\n",
      "Analyzing set 2013_data.csv and comparing it to set 2015_data.csv\n",
      "set()\n",
      "Analyzing set 2013_data.csv and comparing it to set 2009_data.csv\n",
      "set()\n",
      "Analyzing set 2013_data.csv and comparing it to set 2008_data.csv\n",
      "set()\n",
      "Analyzing set 2013_data.csv and comparing it to set 2005_data.csv\n",
      "set()\n",
      "Analyzing set 2013_data.csv and comparing it to set 2012_data.csv\n",
      "{'icd_code_10th_revision', 'icd_code_10'}\n",
      "Analyzing set 2012_data.csv and comparing it to set 2010_data.csv\n",
      "{'icd_code_10th_revision', 'icd_code_10'}\n",
      "Analyzing set 2012_data.csv and comparing it to set 2011_data.csv\n",
      "{'icd_code_10th_revision', 'icd_code_10'}\n",
      "Analyzing set 2012_data.csv and comparing it to set 2007_data.csv\n",
      "{'icd_code_10th_revision', 'icd_code_10'}\n",
      "Analyzing set 2012_data.csv and comparing it to set 2006_data.csv\n",
      "{'icd_code_10th_revision', 'icd_code_10'}\n",
      "Analyzing set 2012_data.csv and comparing it to set 2014_data.csv\n",
      "{'icd_code_10th_revision', 'icd_code_10'}\n",
      "Analyzing set 2012_data.csv and comparing it to set 2015_data.csv\n",
      "{'icd_code_10th_revision', 'icd_code_10'}\n",
      "Analyzing set 2012_data.csv and comparing it to set 2009_data.csv\n",
      "{'icd_code_10th_revision', 'icd_code_10'}\n",
      "Analyzing set 2012_data.csv and comparing it to set 2008_data.csv\n",
      "{'icd_code_10th_revision', 'icd_code_10'}\n",
      "Analyzing set 2012_data.csv and comparing it to set 2005_data.csv\n",
      "{'icd_code_10th_revision', 'icd_code_10'}\n",
      "Analyzing set 2012_data.csv and comparing it to set 2013_data.csv\n",
      "{'icd_code_10th_revision', 'icd_code_10'}\n"
     ]
    }
   ],
   "source": [
    "for s in range(len(column_names)):\n",
    "    for i in range(len(column_names)):\n",
    "        if i == s:\n",
    "            continue\n",
    "        else:\n",
    "            print(f\"Analyzing set {column_names[s][0]} and comparing it to set {column_names[i][0]}\")\n",
    "            print(column_names[s][1].symmetric_difference(column_names[i][1]))"
   ]
  },
  {
   "cell_type": "markdown",
   "metadata": {},
   "source": [
    "### creating base model with only one data set"
   ]
  },
  {
   "cell_type": "markdown",
   "metadata": {},
   "source": [
    "Data pre-processing, the codes associated with the data can be found in the data folder"
   ]
  },
  {
   "cell_type": "code",
   "execution_count": 26,
   "metadata": {
    "ExecuteTime": {
     "end_time": "2021-12-07T03:17:17.194648Z",
     "start_time": "2021-12-07T03:17:17.189850Z"
    }
   },
   "outputs": [
    {
     "data": {
      "text/plain": [
       "Index(['resident_status', 'education_1989_revision', 'education_2003_revision',\n",
       "       'education_reporting_flag', 'month_of_death', 'sex', 'detail_age_type',\n",
       "       'detail_age', 'age_substitution_flag', 'age_recode_52', 'age_recode_27',\n",
       "       'age_recode_12', 'infant_age_recode_22',\n",
       "       'place_of_death_and_decedents_status', 'marital_status',\n",
       "       'day_of_week_of_death', 'current_data_year', 'injury_at_work',\n",
       "       'manner_of_death', 'method_of_disposition', 'autopsy', 'activity_code',\n",
       "       'place_of_injury_for_causes_w00_y34_except_y06_and_y07_',\n",
       "       'icd_code_10th_revision', '358_cause_recode', '113_cause_recode',\n",
       "       '130_infant_cause_recode', '39_cause_recode',\n",
       "       'number_of_entity_axis_conditions', 'entity_condition_1',\n",
       "       'entity_condition_2', 'entity_condition_3', 'entity_condition_4',\n",
       "       'entity_condition_5', 'entity_condition_6', 'entity_condition_7',\n",
       "       'entity_condition_8', 'entity_condition_9', 'entity_condition_10',\n",
       "       'entity_condition_11', 'entity_condition_12', 'entity_condition_13',\n",
       "       'entity_condition_14', 'entity_condition_15', 'entity_condition_16',\n",
       "       'entity_condition_17', 'entity_condition_18', 'entity_condition_19',\n",
       "       'entity_condition_20', 'number_of_record_axis_conditions',\n",
       "       'record_condition_1', 'record_condition_2', 'record_condition_3',\n",
       "       'record_condition_4', 'record_condition_5', 'record_condition_6',\n",
       "       'record_condition_7', 'record_condition_8', 'record_condition_9',\n",
       "       'record_condition_10', 'record_condition_11', 'record_condition_12',\n",
       "       'record_condition_13', 'record_condition_14', 'record_condition_15',\n",
       "       'record_condition_16', 'record_condition_17', 'record_condition_18',\n",
       "       'record_condition_19', 'record_condition_20', 'race',\n",
       "       'bridged_race_flag', 'race_imputation_flag', 'race_recode_3',\n",
       "       'race_recode_5', 'hispanic_origin', 'hispanic_originrace_recode'],\n",
       "      dtype='object')"
      ]
     },
     "execution_count": 26,
     "metadata": {},
     "output_type": "execute_result"
    }
   ],
   "source": [
    "data_2005.columns"
   ]
  },
  {
   "cell_type": "code",
   "execution_count": 32,
   "metadata": {
    "ExecuteTime": {
     "end_time": "2021-12-07T03:26:22.121766Z",
     "start_time": "2021-12-07T03:26:19.376966Z"
    }
   },
   "outputs": [],
   "source": [
    "# finding null values\n",
    "nulls = []\n",
    "names = []\n",
    "for index, value in data_2005.isnull().sum().items():\n",
    "    if value > 0:\n",
    "        nulls.append(value)\n",
    "        names.append(index)"
   ]
  },
  {
   "cell_type": "code",
   "execution_count": 47,
   "metadata": {
    "ExecuteTime": {
     "end_time": "2021-12-07T03:36:48.447831Z",
     "start_time": "2021-12-07T03:36:47.857006Z"
    }
   },
   "outputs": [
    {
     "name": "stderr",
     "output_type": "stream",
     "text": [
      "<ipython-input-47-33766bc8844e>:5: UserWarning: FixedFormatter should only be used together with FixedLocator\n",
      "  ax.set_xticklabels(names, rotation = 90, ha=\"right\")\n"
     ]
    },
    {
     "data": {
      "image/png": "[encoded data removed]",
      "text/plain": [
       "<Figure size 1080x1080 with 1 Axes>"
      ]
     },
     "metadata": {
      "needs_background": "light"
     },
     "output_type": "display_data"
    }
   ],
   "source": [
    "fig, ax = plt.subplots()\n",
    "\n",
    "fig.set_size_inches(15, 15)\n",
    "ax.bar(names, nulls)\n",
    "ax.set_xticklabels(names, rotation = 90, ha=\"right\")\n",
    "\n",
    "plt.show()"
   ]
  },
  {
   "cell_type": "markdown",
   "metadata": {},
   "source": [
    "We have many null values in the dataset, we will need to choose what to do with these"
   ]
  },
  {
   "cell_type": "code",
   "execution_count": 48,
   "metadata": {
    "ExecuteTime": {
     "end_time": "2021-12-07T03:38:49.582209Z",
     "start_time": "2021-12-07T03:38:46.336690Z"
    }
   },
   "outputs": [
    {
     "data": {
      "text/plain": [
       "0          True\n",
       "1          True\n",
       "2          True\n",
       "3          True\n",
       "4          True\n",
       "           ... \n",
       "2452501    True\n",
       "2452502    True\n",
       "2452503    True\n",
       "2452504    True\n",
       "2452505    True\n",
       "Length: 2452506, dtype: bool"
      ]
     },
     "execution_count": 48,
     "metadata": {},
     "output_type": "execute_result"
    }
   ],
   "source": [
    "# looking at null value rows\n",
    "data_2005.isnull().any(axis=1)"
   ]
  },
  {
   "cell_type": "code",
   "execution_count": 50,
   "metadata": {
    "ExecuteTime": {
     "end_time": "2021-12-07T03:40:17.647739Z",
     "start_time": "2021-12-07T03:40:17.641965Z"
    }
   },
   "outputs": [
    {
     "data": {
      "text/plain": [
       "2452506"
      ]
     },
     "execution_count": 50,
     "metadata": {},
     "output_type": "execute_result"
    }
   ],
   "source": [
    "len(data_2005)"
   ]
  },
  {
   "cell_type": "markdown",
   "metadata": {},
   "source": [
    "From this, we can see that every row has at least one null value"
   ]
  },
  {
   "cell_type": "code",
   "execution_count": null,
   "metadata": {},
   "outputs": [],
   "source": []
  }
 ],
 "metadata": {
  "kernelspec": {
   "display_name": "Python BDS",
   "language": "python",
   "name": "bds_new"
  },
  "language_info": {
   "codemirror_mode": {
    "name": "ipython",
    "version": 3
   },
   "file_extension": ".py",
   "mimetype": "text/x-python",
   "name": "python",
   "nbconvert_exporter": "python",
   "pygments_lexer": "ipython3",
   "version": "3.8.5"
  }
 },
 "nbformat": 4,
 "nbformat_minor": 5
}
