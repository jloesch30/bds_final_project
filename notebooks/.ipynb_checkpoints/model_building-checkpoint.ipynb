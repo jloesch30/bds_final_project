{
 "cells": [
  {
   "cell_type": "code",
   "execution_count": 1,
   "id": "72fcf950",
   "metadata": {},
   "outputs": [],
   "source": [
    "%config Completer.use_jedi = False"
   ]
  },
  {
   "cell_type": "code",
   "execution_count": 2,
   "id": "f002388d",
   "metadata": {},
   "outputs": [],
   "source": [
    "import numpy as np\n",
    "import pandas as pd\n",
    "import matplotlib.pyplot as plt\n",
    "from tqdm import tqdm\n",
    "import sys\n",
    "import os"
   ]
  },
  {
   "cell_type": "code",
   "execution_count": 4,
   "id": "e4469192",
   "metadata": {},
   "outputs": [
    {
     "name": "stderr",
     "output_type": "stream",
     "text": [
      "/home/jloesch30/miniconda3/envs/python3.9/lib/python3.9/site-packages/IPython/core/interactiveshell.py:3444: DtypeWarning: Columns (39,40,41,42,43,44,45,46,47,59,60,61,62,63,64,65,66) have mixed types.Specify dtype option on import or set low_memory=False.\n",
      "  exec(code_obj, self.user_global_ns, self.user_ns)\n"
     ]
    }
   ],
   "source": [
    "data_2005 = pd.read_csv('../data/2005_data.csv')\n",
    "\n",
    "# remove columns with entity and record condition except entity_condition_1, entity_condition_2 and entity_condition_3\n",
    "data_2005_revised = data_2005.drop(columns=['entity_condition_2', 'entity_condition_3', 'entity_condition_4',\n",
    "       'entity_condition_5', 'entity_condition_6', 'entity_condition_7',\n",
    "       'entity_condition_8', 'entity_condition_9', 'entity_condition_10',\n",
    "       'entity_condition_11', 'entity_condition_12', 'entity_condition_13',\n",
    "       'entity_condition_14', 'entity_condition_15', 'entity_condition_16',\n",
    "       'entity_condition_17', 'entity_condition_18', 'entity_condition_19',\n",
    "       'entity_condition_20', 'record_condition_2', 'record_condition_3',\n",
    "       'record_condition_4', 'record_condition_5', 'record_condition_6',\n",
    "       'record_condition_7', 'record_condition_8', 'record_condition_9',\n",
    "       'record_condition_10', 'record_condition_11', 'record_condition_12',\n",
    "       'record_condition_13', 'record_condition_14', 'record_condition_15',\n",
    "       'record_condition_16', 'record_condition_17', 'record_condition_18',\n",
    "       'record_condition_19', 'record_condition_20'])\n",
    "\n",
    "# removing education 1989 education revised bc 2003 education revision has the most up to date information\n",
    "try:\n",
    "    data_2005_revised = data_2005_revised.drop(columns=['education_1989_revision'])\n",
    "except:\n",
    "    pass\n",
    "\n",
    "# removing column for age_sub flag\n",
    "try:\n",
    "    data_2005_revised = data_2005_revised.drop(columns=['age_substitution_flag'])\n",
    "except:\n",
    "    pass\n",
    "\n",
    "# remove infant age_recode\n",
    "try:\n",
    "    data_2005_revised = data_2005_revised.drop(columns=['infant_age_recode_22'])\n",
    "except:\n",
    "    pass\n",
    "\n",
    "# remove place_of_injury_for_causes_w00_y34_except_y06_and_y07_\n",
    "try:\n",
    "    data_2005_revised = data_2005_revised.drop(columns=['place_of_injury_for_causes_w00_y34_except_y06_and_y07_'])\n",
    "except:\n",
    "    pass\n",
    "\n",
    "# remove 130_infant_cause_recode\n",
    "try:\n",
    "    data_2005_revised = data_2005_revised.drop(columns=['130_infant_cause_recode'])\n",
    "except:\n",
    "    pass\n",
    "\n",
    "# remove bridged race flag\n",
    "try:\n",
    "    data_2005_revised = data_2005_revised.drop(columns=['bridged_race_flag'])\n",
    "except:\n",
    "    pass\n",
    "\n",
    "# Race imputation flag\n",
    "try:\n",
    "    data_2005_revised = data_2005_revised.drop(columns=['race_imputation_flag'])\n",
    "except:\n",
    "    pass\n",
    "\n",
    "# replace NaN values with '9' for education column\n",
    "\n",
    "data_2005_revised['education_2003_revision'] = data_2005_revised['education_2003_revision'].fillna(9)\n",
    "\n",
    "# replace manner of death NaN values with 0 for \"not specified\"\n",
    "\n",
    "data_2005_revised['manner_of_death'] = data_2005_revised['manner_of_death'].fillna(0)\n",
    "\n",
    "# replace activity code with 10 for NaN values\n",
    "\n",
    "data_2005_revised['activity_code'] = data_2005_revised['activity_code'].fillna(10)"
   ]
  },
  {
   "cell_type": "code",
   "execution_count": null,
   "id": "e0d4bc7c",
   "metadata": {},
   "outputs": [],
   "source": []
  },
  {
   "cell_type": "code",
   "execution_count": null,
   "id": "0dfe40c4",
   "metadata": {},
   "outputs": [],
   "source": []
  }
 ],
 "metadata": {
  "kernelspec": {
   "display_name": "python3.9",
   "language": "python",
   "name": "python3.9"
  },
  "language_info": {
   "codemirror_mode": {
    "name": "ipython",
    "version": 3
   },
   "file_extension": ".py",
   "mimetype": "text/x-python",
   "name": "python",
   "nbconvert_exporter": "python",
   "pygments_lexer": "ipython3",
   "version": "3.9.7"
  }
 },
 "nbformat": 4,
 "nbformat_minor": 5
}
